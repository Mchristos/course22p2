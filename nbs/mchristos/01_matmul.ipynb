{
 "cells": [
  {
   "cell_type": "code",
   "execution_count": 1,
   "id": "ab8852eb-e4e0-4453-bc87-005f53604f8e",
   "metadata": {},
   "outputs": [],
   "source": [
    "from pathlib import Path \n",
    "import pickle, gzip, math, os, time, shutil, matplotlib as mpl, matplotlib.pyplot as plt "
   ]
  },
  {
   "cell_type": "code",
   "execution_count": 2,
   "id": "b8a4165f-26da-48bb-aa4b-0f80b83f05c2",
   "metadata": {},
   "outputs": [],
   "source": [
    "MNIST_URL='https://github.com/mnielsen/neural-networks-and-deep-learning/blob/master/data/mnist.pkl.gz?raw=true'"
   ]
  },
  {
   "cell_type": "code",
   "execution_count": 3,
   "id": "42179e21-a278-4f5e-8bc0-81c78c7cee4d",
   "metadata": {},
   "outputs": [],
   "source": [
    "path_data = Path('data')\n",
    "path_data.mkdir(exist_ok=True)"
   ]
  },
  {
   "cell_type": "code",
   "execution_count": 4,
   "id": "c4452b1e-e691-455e-9adb-e8bebd99915f",
   "metadata": {},
   "outputs": [],
   "source": [
    "from urllib.request import urlretrieve\n",
    "\n",
    "path_gz = path_data/'mnist.pkl.gz'\n",
    "if not path_gz.exists(): urlretrieve(MNIST_URL, path_gz)"
   ]
  },
  {
   "cell_type": "code",
   "execution_count": 5,
   "id": "87d93d10-2003-4f8a-b5f3-d138bf2919dd",
   "metadata": {},
   "outputs": [
    {
     "name": "stdout",
     "output_type": "stream",
     "text": [
      "total 34688\n",
      "-rw-r--r--@ 1 mchristos  staff  17051982 28 Nov 07:49 mnist.pkl.gz\n"
     ]
    }
   ],
   "source": [
    "!ls -l data"
   ]
  },
  {
   "cell_type": "code",
   "execution_count": 6,
   "id": "02e968ff-a463-4f6c-9be5-955773afcffb",
   "metadata": {},
   "outputs": [],
   "source": [
    "with gzip.open(path_gz, 'rb') as f: ((x_train, y_train), (x_valid, y_valid), _) = pickle.load(f, encoding='latin-1')"
   ]
  },
  {
   "cell_type": "code",
   "execution_count": 7,
   "id": "9164f1db-0a59-454c-887f-46a10305e501",
   "metadata": {},
   "outputs": [
    {
     "data": {
      "text/plain": [
       "(50000, 784)"
      ]
     },
     "execution_count": 7,
     "metadata": {},
     "output_type": "execute_result"
    }
   ],
   "source": [
    "x_train.shape"
   ]
  },
  {
   "cell_type": "code",
   "execution_count": 8,
   "id": "56e9078d-8d9c-423f-8dd6-2c96c9a46cb0",
   "metadata": {},
   "outputs": [],
   "source": [
    "lst = list(x_train[0])"
   ]
  },
  {
   "cell_type": "code",
   "execution_count": 9,
   "id": "e753140c-094c-41f9-803c-0982b00d674c",
   "metadata": {},
   "outputs": [
    {
     "data": {
      "text/plain": [
       "[0.0,\n",
       " 0.0,\n",
       " 0.0,\n",
       " 0.19140625,\n",
       " 0.9296875,\n",
       " 0.98828125,\n",
       " 0.98828125,\n",
       " 0.98828125,\n",
       " 0.98828125,\n",
       " 0.98828125]"
      ]
     },
     "execution_count": 9,
     "metadata": {},
     "output_type": "execute_result"
    }
   ],
   "source": [
    "lst[200:210]"
   ]
  },
  {
   "cell_type": "code",
   "execution_count": 10,
   "id": "dbe08e68-53cf-4e8b-b2d5-05125610ac05",
   "metadata": {},
   "outputs": [],
   "source": [
    "def chunks(x, sz):\n",
    "    for i in range(0,len(x),sz):\n",
    "        yield x[i:i+sz]\n",
    "        # print(i, i+sz)"
   ]
  },
  {
   "cell_type": "code",
   "execution_count": 11,
   "id": "8d98358a-1123-47b0-82a5-d28599ebd24e",
   "metadata": {},
   "outputs": [
    {
     "data": {
      "text/plain": [
       "<generator object chunks at 0x114e2d310>"
      ]
     },
     "execution_count": 11,
     "metadata": {},
     "output_type": "execute_result"
    }
   ],
   "source": [
    "chunks(lst,28)"
   ]
  },
  {
   "cell_type": "code",
   "execution_count": 12,
   "id": "4d8494f8-c540-4869-9a39-82f77cd31dfd",
   "metadata": {},
   "outputs": [
    {
     "data": {
      "image/png": "[encoded data removed]",
      "text/plain": [
       "<Figure size 640x480 with 1 Axes>"
      ]
     },
     "metadata": {},
     "output_type": "display_data"
    }
   ],
   "source": [
    "# mpl.rcParams['image.cmap'] = 'gray'\n",
    "plt.imshow(list(chunks(lst, 28)));"
   ]
  },
  {
   "cell_type": "code",
   "execution_count": 13,
   "id": "3d3eb11c-92ef-4a72-9ee4-bf5cd551f224",
   "metadata": {},
   "outputs": [],
   "source": [
    "from itertools import islice"
   ]
  },
  {
   "cell_type": "code",
   "execution_count": 14,
   "id": "2d76401e-ec3a-4cd9-999a-a188f0ee038b",
   "metadata": {},
   "outputs": [
    {
     "data": {
      "text/plain": [
       "[1, 2, 3, 4]"
      ]
     },
     "execution_count": 14,
     "metadata": {},
     "output_type": "execute_result"
    }
   ],
   "source": [
    "thing = iter([1,2,3,4,5,6])\n",
    "list(islice(thing, 4))"
   ]
  },
  {
   "cell_type": "code",
   "execution_count": 15,
   "id": "a14b5b4e-5cd0-4259-8627-df6f02515c91",
   "metadata": {},
   "outputs": [
    {
     "data": {
      "text/plain": [
       "[5, 6]"
      ]
     },
     "execution_count": 15,
     "metadata": {},
     "output_type": "execute_result"
    }
   ],
   "source": [
    "list(thing)"
   ]
  },
  {
   "cell_type": "code",
   "execution_count": 16,
   "id": "e49d3e73-d90a-47c7-83a5-e80bd98492ef",
   "metadata": {},
   "outputs": [
    {
     "data": {
      "text/plain": [
       "[0.0,\n",
       " 0.0,\n",
       " 0.0,\n",
       " 0.19140625,\n",
       " 0.9296875,\n",
       " 0.98828125,\n",
       " 0.98828125,\n",
       " 0.98828125,\n",
       " 0.98828125,\n",
       " 0.98828125]"
      ]
     },
     "execution_count": 16,
     "metadata": {},
     "output_type": "execute_result"
    }
   ],
   "source": [
    "vals = lst[200:210]\n",
    "vals"
   ]
  },
  {
   "cell_type": "code",
   "execution_count": 17,
   "id": "55529cae-3e20-4ca9-b52d-d61cc7d814a6",
   "metadata": {},
   "outputs": [
    {
     "data": {
      "text/plain": [
       "<list_iterator at 0x114e474c0>"
      ]
     },
     "execution_count": 17,
     "metadata": {},
     "output_type": "execute_result"
    }
   ],
   "source": [
    "iter(vals)"
   ]
  },
  {
   "cell_type": "code",
   "execution_count": 18,
   "id": "64d6b48f-a77e-465a-89df-ddba4ae0cd16",
   "metadata": {},
   "outputs": [],
   "source": [
    "it = iter(lst)\n",
    "img = list(iter(lambda: list(islice(it, 28)), []))"
   ]
  },
  {
   "cell_type": "code",
   "execution_count": 19,
   "id": "ae47f5f7-0c11-4958-9044-095c4bfe9e23",
   "metadata": {},
   "outputs": [
    {
     "data": {
      "image/png": "[encoded data removed]",
      "text/plain": [
       "<Figure size 640x480 with 1 Axes>"
      ]
     },
     "metadata": {},
     "output_type": "display_data"
    }
   ],
   "source": [
    "plt.imshow(img);"
   ]
  },
  {
   "cell_type": "code",
   "execution_count": 20,
   "id": "3dd995da-571f-4923-9518-da7cd7436f3c",
   "metadata": {},
   "outputs": [
    {
     "data": {
      "text/plain": [
       "[[0.0, 0.0, 0.0, 0.0],\n",
       " [0.0, 0.0, 0.0, 0.0],\n",
       " [0.0, 0.0, 0.0, 0.0],\n",
       " [0.0, 0.0, 0.0, 0.0],\n",
       " [0.0, 0.0, 0.0, 0.0],\n",
       " [0.0, 0.0, 0.0, 0.0],\n",
       " [0.0, 0.0, 0.0, 0.0],\n",
       " [0.0, 0.0, 0.0, 0.0],\n",
       " [0.0, 0.0, 0.0, 0.0],\n",
       " [0.0, 0.0, 0.0, 0.0],\n",
       " [0.0, 0.0, 0.0, 0.0],\n",
       " [0.0, 0.0, 0.0, 0.0],\n",
       " [0.0, 0.0, 0.0, 0.0],\n",
       " [0.0, 0.0, 0.0, 0.0],\n",
       " [0.0, 0.0, 0.0, 0.0],\n",
       " [0.0, 0.0, 0.0, 0.0],\n",
       " [0.0, 0.0, 0.0, 0.0],\n",
       " [0.0, 0.0, 0.0, 0.0],\n",
       " [0.0, 0.0, 0.0, 0.0],\n",
       " [0.0, 0.0, 0.0, 0.0],\n",
       " [0.0, 0.0, 0.0, 0.0],\n",
       " [0.0, 0.0, 0.0, 0.0],\n",
       " [0.0, 0.0, 0.0, 0.0703125],\n",
       " [0.0, 0.21484375, 0.671875, 0.8828125],\n",
       " [0.0, 0.53125, 0.98828125, 0.98828125],\n",
       " [0.0, 0.0, 0.0, 0.0],\n",
       " [0.0, 0.0, 0.0, 0.0],\n",
       " [0.0, 0.0, 0.0, 0.0]]"
      ]
     },
     "execution_count": 20,
     "metadata": {},
     "output_type": "execute_result"
    }
   ],
   "source": [
    "[x[3:7] for x in img]"
   ]
  },
  {
   "cell_type": "code",
   "execution_count": 21,
   "id": "cecda40c-aafd-4d1f-bf38-d357a968f040",
   "metadata": {},
   "outputs": [
    {
     "data": {
      "text/plain": [
       "0.98828125"
      ]
     },
     "execution_count": 21,
     "metadata": {},
     "output_type": "execute_result"
    }
   ],
   "source": [
    "img[20][15]"
   ]
  },
  {
   "cell_type": "code",
   "execution_count": 22,
   "id": "ae6d7f81-c68a-47d0-bf7f-e15aaa42ea1a",
   "metadata": {},
   "outputs": [],
   "source": [
    "class Matrix:\n",
    "    def __init__(self, data): self.data = data\n",
    "    def __getitem__(self, idxs):\n",
    "        i,j = idxs\n",
    "        return self.data[i][j]"
   ]
  },
  {
   "cell_type": "code",
   "execution_count": 23,
   "id": "e3cc4efa-396d-4d70-a429-43feec67dee0",
   "metadata": {},
   "outputs": [],
   "source": [
    "mat = Matrix(img)"
   ]
  },
  {
   "cell_type": "code",
   "execution_count": 24,
   "id": "10f26b8b-415f-4b84-8ee2-1b6be4a1791e",
   "metadata": {},
   "outputs": [
    {
     "data": {
      "text/plain": [
       "0.98828125"
      ]
     },
     "execution_count": 24,
     "metadata": {},
     "output_type": "execute_result"
    }
   ],
   "source": [
    "mat[20,15]"
   ]
  },
  {
   "cell_type": "code",
   "execution_count": 25,
   "id": "a3f04702-59f5-4a96-bdd6-e42da749630c",
   "metadata": {},
   "outputs": [],
   "source": [
    "import torch\n",
    "from torch import tensor"
   ]
  },
  {
   "cell_type": "code",
   "execution_count": 26,
   "id": "700e64ab-04a1-4b6a-b533-0aabd9a12961",
   "metadata": {},
   "outputs": [
    {
     "data": {
      "text/plain": [
       "tensor([[0., 0., 0.,  ..., 0., 0., 0.],\n",
       "        [0., 0., 0.,  ..., 0., 0., 0.],\n",
       "        [0., 0., 0.,  ..., 0., 0., 0.],\n",
       "        ...,\n",
       "        [0., 0., 0.,  ..., 0., 0., 0.],\n",
       "        [0., 0., 0.,  ..., 0., 0., 0.],\n",
       "        [0., 0., 0.,  ..., 0., 0., 0.]])"
      ]
     },
     "execution_count": 26,
     "metadata": {},
     "output_type": "execute_result"
    }
   ],
   "source": [
    "tensor(x_train)"
   ]
  },
  {
   "cell_type": "code",
   "execution_count": 27,
   "id": "f7d85c16-8fc2-46fe-abb8-813941004211",
   "metadata": {},
   "outputs": [],
   "source": [
    "x_train, y_train, x_valid, y_valid = map(tensor, [x_train, y_train, x_valid, y_valid])"
   ]
  },
  {
   "cell_type": "code",
   "execution_count": 28,
   "id": "b3c2eab5-6833-42a2-92cc-1fda699a0c9c",
   "metadata": {},
   "outputs": [
    {
     "data": {
      "text/plain": [
       "torch.Size([50000, 784])"
      ]
     },
     "execution_count": 28,
     "metadata": {},
     "output_type": "execute_result"
    }
   ],
   "source": [
    "x_train.shape"
   ]
  },
  {
   "cell_type": "code",
   "execution_count": 29,
   "id": "47742dfe-ed04-4231-905a-749cd5cf63d4",
   "metadata": {},
   "outputs": [
    {
     "data": {
      "text/plain": [
       "torch.Size([50000, 28, 28])"
      ]
     },
     "execution_count": 29,
     "metadata": {},
     "output_type": "execute_result"
    }
   ],
   "source": [
    "imgs = x_train.reshape([-1,28,28])\n",
    "imgs.shape"
   ]
  },
  {
   "cell_type": "code",
   "execution_count": 30,
   "id": "71fa91bc-182a-48b1-9ee8-f190145771a6",
   "metadata": {},
   "outputs": [
    {
     "data": {
      "image/png": "[encoded data removed]",
      "text/plain": [
       "<Figure size 640x480 with 1 Axes>"
      ]
     },
     "metadata": {},
     "output_type": "display_data"
    }
   ],
   "source": [
    "plt.imshow(imgs[0]);"
   ]
  },
  {
   "cell_type": "markdown",
   "id": "3d241275-b82c-434e-b2c6-e4c97251ef79",
   "metadata": {},
   "source": [
    "## Matrix multiplication"
   ]
  },
  {
   "cell_type": "code",
   "execution_count": 33,
   "id": "2c351010-5f36-4e76-ab46-4a495d6ef25c",
   "metadata": {},
   "outputs": [],
   "source": [
    "torch.manual_seed(1)\n",
    "weights = torch.randn(784, 10)\n",
    "bias = torch.zeros(10)"
   ]
  },
  {
   "cell_type": "code",
   "execution_count": 34,
   "id": "3f127080-d292-4c02-a7a1-d55de821b36c",
   "metadata": {},
   "outputs": [],
   "source": [
    "m1 = x_valid[:5]\n",
    "m2 = weights"
   ]
  },
  {
   "cell_type": "code",
   "execution_count": 35,
   "id": "694b255f-714b-433c-8fe9-a1d303589f81",
   "metadata": {},
   "outputs": [
    {
     "data": {
      "text/plain": [
       "(torch.Size([5, 784]), torch.Size([784, 10]))"
      ]
     },
     "execution_count": 35,
     "metadata": {},
     "output_type": "execute_result"
    }
   ],
   "source": [
    "m1.shape, m2.shape"
   ]
  },
  {
   "cell_type": "code",
   "execution_count": 36,
   "id": "2069bbd2-2c9b-4f1a-91ee-cb61ef553fa2",
   "metadata": {},
   "outputs": [],
   "source": [
    "t1 = torch.zeros(5, 10)\n",
    "for i in range(m1.shape[0]): # 5\n",
    "    for j in range(m2.shape[1]): # 10\n",
    "        for k in range(m1.shape[1]): # 784\n",
    "            t1[i,j] += m1[i,k] * m2[k,j]"
   ]
  },
  {
   "cell_type": "code",
   "execution_count": 37,
   "id": "577a85c1-f2d1-4c0d-82fb-fbeac02b7769",
   "metadata": {},
   "outputs": [],
   "source": [
    "torch.set_printoptions(linewidth=140, precision=2)"
   ]
  },
  {
   "cell_type": "code",
   "execution_count": 38,
   "id": "ce2e320a-ba5b-4f53-a4bc-d24666e14808",
   "metadata": {},
   "outputs": [
    {
     "data": {
      "text/plain": [
       "tensor([[-10.94,  -0.68,  -7.00,  -4.01,  -2.09,  -3.36,   3.91,  -3.44, -11.47,  -2.12],\n",
       "        [ 14.54,   6.00,   2.89,  -4.08,   6.59, -14.74,  -9.28,   2.16, -15.28,  -2.68],\n",
       "        [  2.22,  -3.22,  -4.80,  -6.05,  14.17,  -8.98,  -4.79,  -5.44, -20.68,  13.57],\n",
       "        [ -6.71,   8.90,  -7.46,  -7.90,   2.70,  -4.73, -11.03, -12.98,  -6.44,   3.64],\n",
       "        [ -2.44,  -6.40,  -2.40,  -9.04,  11.18,  -5.77,  -8.92,  -3.79,  -8.98,   5.28]])"
      ]
     },
     "execution_count": 38,
     "metadata": {},
     "output_type": "execute_result"
    }
   ],
   "source": [
    "t1"
   ]
  },
  {
   "cell_type": "code",
   "execution_count": 39,
   "id": "8f5ed5b2-f9b0-419a-a624-816157c0d22c",
   "metadata": {},
   "outputs": [],
   "source": [
    "import numpy as np \n",
    "np.set_printoptions(linewidth=140, precision=2)"
   ]
  },
  {
   "cell_type": "code",
   "execution_count": 40,
   "id": "316ebb2b-1605-49fe-aac6-9c00fd762a34",
   "metadata": {},
   "outputs": [],
   "source": [
    "def matmul(m1,m2):\n",
    "    m = torch.zeros(5, 10)\n",
    "    for i in range(m1.shape[0]): # 5\n",
    "        for j in range(m2.shape[1]): # 10\n",
    "            for k in range(m1.shape[1]): # 784\n",
    "                m[i,j] += m1[i,k] * m2[k,j]\n",
    "    return m"
   ]
  },
  {
   "cell_type": "code",
   "execution_count": 41,
   "id": "c5049c3c-5b66-430a-89c8-7ef90fafffb1",
   "metadata": {},
   "outputs": [
    {
     "name": "stdout",
     "output_type": "stream",
     "text": [
      "CPU times: user 598 ms, sys: 4.07 ms, total: 602 ms\n",
      "Wall time: 601 ms\n"
     ]
    }
   ],
   "source": [
    "%time _=matmul(m1,m2)"
   ]
  },
  {
   "cell_type": "markdown",
   "id": "f16d85cd-b3bd-497a-b3d8-74718fa07adc",
   "metadata": {},
   "source": [
    "## Numba "
   ]
  },
  {
   "cell_type": "code",
   "execution_count": 42,
   "id": "687a7437-a5b1-4f4d-838c-f460fa55eb56",
   "metadata": {},
   "outputs": [],
   "source": [
    "# !pip install numba "
   ]
  },
  {
   "cell_type": "code",
   "execution_count": 43,
   "id": "cb83f441-0262-40ac-8b70-b246d194b400",
   "metadata": {},
   "outputs": [],
   "source": [
    "from numba import njit "
   ]
  },
  {
   "cell_type": "code",
   "execution_count": 44,
   "id": "a00867b1-99a7-4f67-be41-95f46042b5ed",
   "metadata": {},
   "outputs": [],
   "source": [
    "@njit\n",
    "def dot(a, b):\n",
    "    res = 0\n",
    "    for i in range(len(a)): res += a[i]*b[i]\n",
    "    return res "
   ]
  },
  {
   "cell_type": "code",
   "execution_count": 45,
   "id": "a09af4b2-0fb2-41f2-91f6-d1d6d1fb1501",
   "metadata": {},
   "outputs": [
    {
     "name": "stdout",
     "output_type": "stream",
     "text": [
      "CPU times: user 689 ms, sys: 243 ms, total: 932 ms\n",
      "Wall time: 629 ms\n"
     ]
    },
    {
     "data": {
      "text/plain": [
       "32.0"
      ]
     },
     "execution_count": 45,
     "metadata": {},
     "output_type": "execute_result"
    }
   ],
   "source": [
    "%time dot(np.array([1.,2,3]), np.array([4.,5,6]))"
   ]
  },
  {
   "cell_type": "code",
   "execution_count": 46,
   "id": "81157993-f162-4188-8d6b-29fbc68237da",
   "metadata": {},
   "outputs": [
    {
     "name": "stdout",
     "output_type": "stream",
     "text": [
      "CPU times: user 20 µs, sys: 2 µs, total: 22 µs\n",
      "Wall time: 24.1 µs\n"
     ]
    },
    {
     "data": {
      "text/plain": [
       "32.0"
      ]
     },
     "execution_count": 46,
     "metadata": {},
     "output_type": "execute_result"
    }
   ],
   "source": [
    "%time dot(np.array([1.,2,3]), np.array([4.,5,6]))"
   ]
  },
  {
   "cell_type": "markdown",
   "id": "132e215a-2cf5-41f6-a720-062cf195a26e",
   "metadata": {},
   "source": [
    "## Einstein summation "
   ]
  },
  {
   "cell_type": "code",
   "execution_count": 55,
   "id": "390c351e-4d1a-43d8-ac71-65197493bfb2",
   "metadata": {
    "scrolled": true
   },
   "outputs": [
    {
     "data": {
      "text/plain": [
       "\u001b[0;31mSignature:\u001b[0m \u001b[0mtorch\u001b[0m\u001b[0;34m.\u001b[0m\u001b[0meinsum\u001b[0m\u001b[0;34m(\u001b[0m\u001b[0;34m*\u001b[0m\u001b[0margs\u001b[0m\u001b[0;34m:\u001b[0m \u001b[0mAny\u001b[0m\u001b[0;34m)\u001b[0m \u001b[0;34m->\u001b[0m \u001b[0mtorch\u001b[0m\u001b[0;34m.\u001b[0m\u001b[0mTensor\u001b[0m\u001b[0;34m\u001b[0m\u001b[0;34m\u001b[0m\u001b[0m\n",
       "\u001b[0;31mSource:\u001b[0m   \n",
       "\u001b[0;32mdef\u001b[0m \u001b[0meinsum\u001b[0m\u001b[0;34m(\u001b[0m\u001b[0;34m*\u001b[0m\u001b[0margs\u001b[0m\u001b[0;34m:\u001b[0m \u001b[0mAny\u001b[0m\u001b[0;34m)\u001b[0m \u001b[0;34m->\u001b[0m \u001b[0mTensor\u001b[0m\u001b[0;34m:\u001b[0m\u001b[0;34m\u001b[0m\n",
       "\u001b[0;34m\u001b[0m    \u001b[0;34mr\"\"\"einsum(equation, *operands) -> Tensor\u001b[0m\n",
       "\u001b[0;34m\u001b[0m\n",
       "\u001b[0;34m    Sums the product of the elements of the input :attr:`operands` along dimensions specified using a notation\u001b[0m\n",
       "\u001b[0;34m    based on the Einstein summation convention.\u001b[0m\n",
       "\u001b[0;34m\u001b[0m\n",
       "\u001b[0;34m    Einsum allows computing many common multi-dimensional linear algebraic array operations by representing them\u001b[0m\n",
       "\u001b[0;34m    in a short-hand format based on the Einstein summation convention, given by :attr:`equation`. The details of\u001b[0m\n",
       "\u001b[0;34m    this format are described below, but the general idea is to label every dimension of the input :attr:`operands`\u001b[0m\n",
       "\u001b[0;34m    with some subscript and define which subscripts are part of the output. The output is then computed by summing\u001b[0m\n",
       "\u001b[0;34m    the product of the elements of the :attr:`operands` along the dimensions whose subscripts are not part of the\u001b[0m\n",
       "\u001b[0;34m    output. For example, matrix multiplication can be computed using einsum as `torch.einsum(\"ij,jk->ik\", A, B)`.\u001b[0m\n",
       "\u001b[0;34m    Here, j is the summation subscript and i and k the output subscripts (see section below for more details on why).\u001b[0m\n",
       "\u001b[0;34m\u001b[0m\n",
       "\u001b[0;34m    Equation:\u001b[0m\n",
       "\u001b[0;34m\u001b[0m\n",
       "\u001b[0;34m        The :attr:`equation` string specifies the subscripts (letters in `[a-zA-Z]`) for each dimension of\u001b[0m\n",
       "\u001b[0;34m        the input :attr:`operands` in the same order as the dimensions, separating subscripts for each operand by a\u001b[0m\n",
       "\u001b[0;34m        comma (','), e.g. `'ij,jk'` specify subscripts for two 2D operands. The dimensions labeled with the same subscript\u001b[0m\n",
       "\u001b[0;34m        must be broadcastable, that is, their size must either match or be `1`. The exception is if a subscript is\u001b[0m\n",
       "\u001b[0;34m        repeated for the same input operand, in which case the dimensions labeled with this subscript for this operand\u001b[0m\n",
       "\u001b[0;34m        must match in size and the operand will be replaced by its diagonal along these dimensions. The subscripts that\u001b[0m\n",
       "\u001b[0;34m        appear exactly once in the :attr:`equation` will be part of the output, sorted in increasing alphabetical order.\u001b[0m\n",
       "\u001b[0;34m        The output is computed by multiplying the input :attr:`operands` element-wise, with their dimensions aligned based\u001b[0m\n",
       "\u001b[0;34m        on the subscripts, and then summing out the dimensions whose subscripts are not part of the output.\u001b[0m\n",
       "\u001b[0;34m\u001b[0m\n",
       "\u001b[0;34m        Optionally, the output subscripts can be explicitly defined by adding an arrow ('->') at the end of the equation\u001b[0m\n",
       "\u001b[0;34m        followed by the subscripts for the output. For instance, the following equation computes the transpose of a\u001b[0m\n",
       "\u001b[0;34m        matrix multiplication: 'ij,jk->ki'. The output subscripts must appear at least once for some input operand and\u001b[0m\n",
       "\u001b[0;34m        at most once for the output.\u001b[0m\n",
       "\u001b[0;34m\u001b[0m\n",
       "\u001b[0;34m        Ellipsis ('...') can be used in place of subscripts to broadcast the dimensions covered by the ellipsis.\u001b[0m\n",
       "\u001b[0;34m        Each input operand may contain at most one ellipsis which will cover the dimensions not covered by subscripts,\u001b[0m\n",
       "\u001b[0;34m        e.g. for an input operand with 5 dimensions, the ellipsis in the equation `'ab...c'` cover the third and fourth\u001b[0m\n",
       "\u001b[0;34m        dimensions. The ellipsis does not need to cover the same number of dimensions across the :attr:`operands` but the\u001b[0m\n",
       "\u001b[0;34m        'shape' of the ellipsis (the size of the dimensions covered by them) must broadcast together. If the output is not\u001b[0m\n",
       "\u001b[0;34m        explicitly defined with the arrow ('->') notation, the ellipsis will come first in the output (left-most dimensions),\u001b[0m\n",
       "\u001b[0;34m        before the subscript labels that appear exactly once for the input operands. e.g. the following equation implements\u001b[0m\n",
       "\u001b[0;34m        batch matrix multiplication `'...ij,...jk'`.\u001b[0m\n",
       "\u001b[0;34m\u001b[0m\n",
       "\u001b[0;34m        A few final notes: the equation may contain whitespaces between the different elements (subscripts, ellipsis,\u001b[0m\n",
       "\u001b[0;34m        arrow and comma) but something like `'. . .'` is not valid. An empty string `''` is valid for scalar operands.\u001b[0m\n",
       "\u001b[0;34m\u001b[0m\n",
       "\u001b[0;34m    .. note::\u001b[0m\n",
       "\u001b[0;34m\u001b[0m\n",
       "\u001b[0;34m        ``torch.einsum`` handles ellipsis ('...') differently from NumPy in that it allows dimensions\u001b[0m\n",
       "\u001b[0;34m        covered by the ellipsis to be summed over, that is, ellipsis are not required to be part of the output.\u001b[0m\n",
       "\u001b[0;34m\u001b[0m\n",
       "\u001b[0;34m    .. note::\u001b[0m\n",
       "\u001b[0;34m\u001b[0m\n",
       "\u001b[0;34m        This function uses opt_einsum (https://optimized-einsum.readthedocs.io/en/stable/) to speed up computation or to\u001b[0m\n",
       "\u001b[0;34m        consume less memory by optimizing contraction order. This optimization occurs when there are at least three\u001b[0m\n",
       "\u001b[0;34m        inputs, since the order does not matter otherwise. Note that finding _the_ optimal path is an NP-hard problem,\u001b[0m\n",
       "\u001b[0;34m        thus, opt_einsum relies on different heuristics to achieve near-optimal results. If opt_einsum is not available,\u001b[0m\n",
       "\u001b[0;34m        the default order is to contract from left to right.\u001b[0m\n",
       "\u001b[0;34m\u001b[0m\n",
       "\u001b[0;34m        To bypass this default behavior, add the following line to disable the usage of opt_einsum and skip path\u001b[0m\n",
       "\u001b[0;34m        calculation: `torch.backends.opt_einsum.enabled = False`\u001b[0m\n",
       "\u001b[0;34m\u001b[0m\n",
       "\u001b[0;34m        To specify which strategy you'd like for opt_einsum to compute the contraction path, add the following line:\u001b[0m\n",
       "\u001b[0;34m        `torch.backends.opt_einsum.strategy = 'auto'`. The default strategy is 'auto', and we also support 'greedy' and\u001b[0m\n",
       "\u001b[0;34m        'optimal'. Disclaimer that the runtime of 'optimal' is factorial in the number of inputs! See more details in\u001b[0m\n",
       "\u001b[0;34m        the opt_einsum documentation (https://optimized-einsum.readthedocs.io/en/stable/path_finding.html).\u001b[0m\n",
       "\u001b[0;34m\u001b[0m\n",
       "\u001b[0;34m    .. note::\u001b[0m\n",
       "\u001b[0;34m\u001b[0m\n",
       "\u001b[0;34m        As of PyTorch 1.10 :func:`torch.einsum` also supports the sublist format (see examples below). In this format,\u001b[0m\n",
       "\u001b[0;34m        subscripts for each operand are specified by sublists, list of integers in the range [0, 52). These sublists\u001b[0m\n",
       "\u001b[0;34m        follow their operands, and an extra sublist can appear at the end of the input to specify the output's\u001b[0m\n",
       "\u001b[0;34m        subscripts., e.g. `torch.einsum(op1, sublist1, op2, sublist2, ..., [subslist_out])`. Python's `Ellipsis` object\u001b[0m\n",
       "\u001b[0;34m        may be provided in a sublist to enable broadcasting as described in the Equation section above.\u001b[0m\n",
       "\u001b[0;34m\u001b[0m\n",
       "\u001b[0;34m    Args:\u001b[0m\n",
       "\u001b[0;34m        equation (str): The subscripts for the Einstein summation.\u001b[0m\n",
       "\u001b[0;34m        operands (List[Tensor]): The tensors to compute the Einstein summation of.\u001b[0m\n",
       "\u001b[0;34m\u001b[0m\n",
       "\u001b[0;34m    Examples::\u001b[0m\n",
       "\u001b[0;34m\u001b[0m\n",
       "\u001b[0;34m        >>> # xdoctest: +IGNORE_WANT(\"non-deterministic\")\u001b[0m\n",
       "\u001b[0;34m        >>> # trace\u001b[0m\n",
       "\u001b[0;34m        >>> torch.einsum('ii', torch.randn(4, 4))\u001b[0m\n",
       "\u001b[0;34m        tensor(-1.2104)\u001b[0m\n",
       "\u001b[0;34m\u001b[0m\n",
       "\u001b[0;34m        >>> # xdoctest: +IGNORE_WANT(\"non-deterministic\")\u001b[0m\n",
       "\u001b[0;34m        >>> # diagonal\u001b[0m\n",
       "\u001b[0;34m        >>> torch.einsum('ii->i', torch.randn(4, 4))\u001b[0m\n",
       "\u001b[0;34m        tensor([-0.1034,  0.7952, -0.2433,  0.4545])\u001b[0m\n",
       "\u001b[0;34m\u001b[0m\n",
       "\u001b[0;34m        >>> # xdoctest: +IGNORE_WANT(\"non-deterministic\")\u001b[0m\n",
       "\u001b[0;34m        >>> # outer product\u001b[0m\n",
       "\u001b[0;34m        >>> x = torch.randn(5)\u001b[0m\n",
       "\u001b[0;34m        >>> y = torch.randn(4)\u001b[0m\n",
       "\u001b[0;34m        >>> torch.einsum('i,j->ij', x, y)\u001b[0m\n",
       "\u001b[0;34m        tensor([[ 0.1156, -0.2897, -0.3918,  0.4963],\u001b[0m\n",
       "\u001b[0;34m                [-0.3744,  0.9381,  1.2685, -1.6070],\u001b[0m\n",
       "\u001b[0;34m                [ 0.7208, -1.8058, -2.4419,  3.0936],\u001b[0m\n",
       "\u001b[0;34m                [ 0.1713, -0.4291, -0.5802,  0.7350],\u001b[0m\n",
       "\u001b[0;34m                [ 0.5704, -1.4290, -1.9323,  2.4480]])\u001b[0m\n",
       "\u001b[0;34m\u001b[0m\n",
       "\u001b[0;34m        >>> # xdoctest: +IGNORE_WANT(\"non-deterministic\")\u001b[0m\n",
       "\u001b[0;34m        >>> # batch matrix multiplication\u001b[0m\n",
       "\u001b[0;34m        >>> As = torch.randn(3, 2, 5)\u001b[0m\n",
       "\u001b[0;34m        >>> Bs = torch.randn(3, 5, 4)\u001b[0m\n",
       "\u001b[0;34m        >>> torch.einsum('bij,bjk->bik', As, Bs)\u001b[0m\n",
       "\u001b[0;34m        tensor([[[-1.0564, -1.5904,  3.2023,  3.1271],\u001b[0m\n",
       "\u001b[0;34m                [-1.6706, -0.8097, -0.8025, -2.1183]],\u001b[0m\n",
       "\u001b[0;34m\u001b[0m\n",
       "\u001b[0;34m                [[ 4.2239,  0.3107, -0.5756, -0.2354],\u001b[0m\n",
       "\u001b[0;34m                [-1.4558, -0.3460,  1.5087, -0.8530]],\u001b[0m\n",
       "\u001b[0;34m\u001b[0m\n",
       "\u001b[0;34m                [[ 2.8153,  1.8787, -4.3839, -1.2112],\u001b[0m\n",
       "\u001b[0;34m                [ 0.3728, -2.1131,  0.0921,  0.8305]]])\u001b[0m\n",
       "\u001b[0;34m\u001b[0m\n",
       "\u001b[0;34m        >>> # xdoctest: +IGNORE_WANT(\"non-deterministic\")\u001b[0m\n",
       "\u001b[0;34m        >>> # with sublist format and ellipsis\u001b[0m\n",
       "\u001b[0;34m        >>> torch.einsum(As, [..., 0, 1], Bs, [..., 1, 2], [..., 0, 2])\u001b[0m\n",
       "\u001b[0;34m        tensor([[[-1.0564, -1.5904,  3.2023,  3.1271],\u001b[0m\n",
       "\u001b[0;34m                [-1.6706, -0.8097, -0.8025, -2.1183]],\u001b[0m\n",
       "\u001b[0;34m\u001b[0m\n",
       "\u001b[0;34m                [[ 4.2239,  0.3107, -0.5756, -0.2354],\u001b[0m\n",
       "\u001b[0;34m                [-1.4558, -0.3460,  1.5087, -0.8530]],\u001b[0m\n",
       "\u001b[0;34m\u001b[0m\n",
       "\u001b[0;34m                [[ 2.8153,  1.8787, -4.3839, -1.2112],\u001b[0m\n",
       "\u001b[0;34m                [ 0.3728, -2.1131,  0.0921,  0.8305]]])\u001b[0m\n",
       "\u001b[0;34m\u001b[0m\n",
       "\u001b[0;34m        >>> # batch permute\u001b[0m\n",
       "\u001b[0;34m        >>> A = torch.randn(2, 3, 4, 5)\u001b[0m\n",
       "\u001b[0;34m        >>> torch.einsum('...ij->...ji', A).shape\u001b[0m\n",
       "\u001b[0;34m        torch.Size([2, 3, 5, 4])\u001b[0m\n",
       "\u001b[0;34m\u001b[0m\n",
       "\u001b[0;34m        >>> # equivalent to torch.nn.functional.bilinear\u001b[0m\n",
       "\u001b[0;34m        >>> A = torch.randn(3, 5, 4)\u001b[0m\n",
       "\u001b[0;34m        >>> l = torch.randn(2, 5)\u001b[0m\n",
       "\u001b[0;34m        >>> r = torch.randn(2, 4)\u001b[0m\n",
       "\u001b[0;34m        >>> torch.einsum('bn,anm,bm->ba', l, A, r)\u001b[0m\n",
       "\u001b[0;34m        tensor([[-0.3430, -5.2405,  0.4494],\u001b[0m\n",
       "\u001b[0;34m                [ 0.3311,  5.5201, -3.0356]])\u001b[0m\n",
       "\u001b[0;34m    \"\"\"\u001b[0m\u001b[0;34m\u001b[0m\n",
       "\u001b[0;34m\u001b[0m    \u001b[0;31m# This wrapper exists to support variadic args.\u001b[0m\u001b[0;34m\u001b[0m\n",
       "\u001b[0;34m\u001b[0m    \u001b[0;32mif\u001b[0m \u001b[0mlen\u001b[0m\u001b[0;34m(\u001b[0m\u001b[0margs\u001b[0m\u001b[0;34m)\u001b[0m \u001b[0;34m<\u001b[0m \u001b[0;36m2\u001b[0m\u001b[0;34m:\u001b[0m\u001b[0;34m\u001b[0m\n",
       "\u001b[0;34m\u001b[0m        \u001b[0;32mraise\u001b[0m \u001b[0mValueError\u001b[0m\u001b[0;34m(\u001b[0m\u001b[0;34m'einsum(): must specify the equation string and at least one operand, '\u001b[0m\u001b[0;34m\u001b[0m\n",
       "\u001b[0;34m\u001b[0m                         \u001b[0;34m'or at least one operand and its subscripts list'\u001b[0m\u001b[0;34m)\u001b[0m\u001b[0;34m\u001b[0m\n",
       "\u001b[0;34m\u001b[0m\u001b[0;34m\u001b[0m\n",
       "\u001b[0;34m\u001b[0m    \u001b[0mequation\u001b[0m \u001b[0;34m=\u001b[0m \u001b[0;32mNone\u001b[0m\u001b[0;34m\u001b[0m\n",
       "\u001b[0;34m\u001b[0m    \u001b[0moperands\u001b[0m \u001b[0;34m=\u001b[0m \u001b[0;32mNone\u001b[0m\u001b[0;34m\u001b[0m\n",
       "\u001b[0;34m\u001b[0m\u001b[0;34m\u001b[0m\n",
       "\u001b[0;34m\u001b[0m    \u001b[0;32mif\u001b[0m \u001b[0misinstance\u001b[0m\u001b[0;34m(\u001b[0m\u001b[0margs\u001b[0m\u001b[0;34m[\u001b[0m\u001b[0;36m0\u001b[0m\u001b[0;34m]\u001b[0m\u001b[0;34m,\u001b[0m \u001b[0mtorch\u001b[0m\u001b[0;34m.\u001b[0m\u001b[0mTensor\u001b[0m\u001b[0;34m)\u001b[0m\u001b[0;34m:\u001b[0m\u001b[0;34m\u001b[0m\n",
       "\u001b[0;34m\u001b[0m        \u001b[0;31m# Convert the subscript list format which is an interleaving of operand and its subscripts\u001b[0m\u001b[0;34m\u001b[0m\n",
       "\u001b[0;34m\u001b[0m        \u001b[0;31m# list with an optional output subscripts list at the end (see documentation for more details on this)\u001b[0m\u001b[0;34m\u001b[0m\n",
       "\u001b[0;34m\u001b[0m        \u001b[0;31m# to the equation string format by creating the equation string from the subscripts list and grouping the\u001b[0m\u001b[0;34m\u001b[0m\n",
       "\u001b[0;34m\u001b[0m        \u001b[0;31m# input operands into a tensorlist (List[Tensor]).\u001b[0m\u001b[0;34m\u001b[0m\n",
       "\u001b[0;34m\u001b[0m        \u001b[0;32mdef\u001b[0m \u001b[0mparse_subscript\u001b[0m\u001b[0;34m(\u001b[0m\u001b[0mn\u001b[0m\u001b[0;34m:\u001b[0m \u001b[0mint\u001b[0m\u001b[0;34m)\u001b[0m \u001b[0;34m->\u001b[0m \u001b[0mstr\u001b[0m\u001b[0;34m:\u001b[0m\u001b[0;34m\u001b[0m\n",
       "\u001b[0;34m\u001b[0m            \u001b[0;32mif\u001b[0m \u001b[0mn\u001b[0m \u001b[0;34m==\u001b[0m \u001b[0mEllipsis\u001b[0m\u001b[0;34m:\u001b[0m\u001b[0;34m\u001b[0m\n",
       "\u001b[0;34m\u001b[0m                \u001b[0;32mreturn\u001b[0m \u001b[0;34m'...'\u001b[0m\u001b[0;34m\u001b[0m\n",
       "\u001b[0;34m\u001b[0m            \u001b[0;32mif\u001b[0m \u001b[0mn\u001b[0m \u001b[0;34m>=\u001b[0m \u001b[0;36m0\u001b[0m \u001b[0;32mand\u001b[0m \u001b[0mn\u001b[0m \u001b[0;34m<\u001b[0m \u001b[0;36m26\u001b[0m\u001b[0;34m:\u001b[0m\u001b[0;34m\u001b[0m\n",
       "\u001b[0;34m\u001b[0m                \u001b[0;32mreturn\u001b[0m \u001b[0mchr\u001b[0m\u001b[0;34m(\u001b[0m\u001b[0mord\u001b[0m\u001b[0;34m(\u001b[0m\u001b[0;34m'A'\u001b[0m\u001b[0;34m)\u001b[0m \u001b[0;34m+\u001b[0m \u001b[0mn\u001b[0m\u001b[0;34m)\u001b[0m\u001b[0;34m\u001b[0m\n",
       "\u001b[0;34m\u001b[0m            \u001b[0;32mif\u001b[0m \u001b[0mn\u001b[0m \u001b[0;34m>=\u001b[0m \u001b[0;36m26\u001b[0m \u001b[0;32mand\u001b[0m \u001b[0mn\u001b[0m \u001b[0;34m<\u001b[0m \u001b[0;36m52\u001b[0m\u001b[0;34m:\u001b[0m\u001b[0;34m\u001b[0m\n",
       "\u001b[0;34m\u001b[0m                \u001b[0;32mreturn\u001b[0m \u001b[0mchr\u001b[0m\u001b[0;34m(\u001b[0m\u001b[0mord\u001b[0m\u001b[0;34m(\u001b[0m\u001b[0;34m'a'\u001b[0m\u001b[0;34m)\u001b[0m \u001b[0;34m+\u001b[0m \u001b[0mn\u001b[0m \u001b[0;34m-\u001b[0m \u001b[0;36m26\u001b[0m\u001b[0;34m)\u001b[0m\u001b[0;34m\u001b[0m\n",
       "\u001b[0;34m\u001b[0m            \u001b[0;32mraise\u001b[0m \u001b[0mValueError\u001b[0m\u001b[0;34m(\u001b[0m\u001b[0;34m'einsum(): subscript in subscript list is not within the valid range [0, 52)'\u001b[0m\u001b[0;34m)\u001b[0m\u001b[0;34m\u001b[0m\n",
       "\u001b[0;34m\u001b[0m\u001b[0;34m\u001b[0m\n",
       "\u001b[0;34m\u001b[0m        \u001b[0;31m# Parse subscripts for input operands\u001b[0m\u001b[0;34m\u001b[0m\n",
       "\u001b[0;34m\u001b[0m        \u001b[0mequation\u001b[0m \u001b[0;34m=\u001b[0m \u001b[0;34m','\u001b[0m\u001b[0;34m.\u001b[0m\u001b[0mjoin\u001b[0m\u001b[0;34m(\u001b[0m\u001b[0;34m''\u001b[0m\u001b[0;34m.\u001b[0m\u001b[0mjoin\u001b[0m\u001b[0;34m(\u001b[0m\u001b[0mparse_subscript\u001b[0m\u001b[0;34m(\u001b[0m\u001b[0ms\u001b[0m\u001b[0;34m)\u001b[0m \u001b[0;32mfor\u001b[0m \u001b[0ms\u001b[0m \u001b[0;32min\u001b[0m \u001b[0ml\u001b[0m\u001b[0;34m)\u001b[0m \u001b[0;32mfor\u001b[0m \u001b[0ml\u001b[0m \u001b[0;32min\u001b[0m \u001b[0margs\u001b[0m\u001b[0;34m[\u001b[0m\u001b[0;36m1\u001b[0m\u001b[0;34m:\u001b[0m\u001b[0;34m:\u001b[0m\u001b[0;36m2\u001b[0m\u001b[0;34m]\u001b[0m\u001b[0;34m)\u001b[0m\u001b[0;34m\u001b[0m\n",
       "\u001b[0;34m\u001b[0m\u001b[0;34m\u001b[0m\n",
       "\u001b[0;34m\u001b[0m        \u001b[0;31m# Parse optional output subscripts (provided when the number of arguments is odd)\u001b[0m\u001b[0;34m\u001b[0m\n",
       "\u001b[0;34m\u001b[0m        \u001b[0;32mif\u001b[0m \u001b[0mlen\u001b[0m\u001b[0;34m(\u001b[0m\u001b[0margs\u001b[0m\u001b[0;34m)\u001b[0m \u001b[0;34m%\u001b[0m \u001b[0;36m2\u001b[0m \u001b[0;34m==\u001b[0m \u001b[0;36m1\u001b[0m\u001b[0;34m:\u001b[0m\u001b[0;34m\u001b[0m\n",
       "\u001b[0;34m\u001b[0m            \u001b[0mequation\u001b[0m \u001b[0;34m+=\u001b[0m \u001b[0;34m'->'\u001b[0m \u001b[0;34m+\u001b[0m \u001b[0;34m''\u001b[0m\u001b[0;34m.\u001b[0m\u001b[0mjoin\u001b[0m\u001b[0;34m(\u001b[0m\u001b[0mparse_subscript\u001b[0m\u001b[0;34m(\u001b[0m\u001b[0ms\u001b[0m\u001b[0;34m)\u001b[0m \u001b[0;32mfor\u001b[0m \u001b[0ms\u001b[0m \u001b[0;32min\u001b[0m \u001b[0margs\u001b[0m\u001b[0;34m[\u001b[0m\u001b[0;34m-\u001b[0m\u001b[0;36m1\u001b[0m\u001b[0;34m]\u001b[0m\u001b[0;34m)\u001b[0m\u001b[0;34m\u001b[0m\n",
       "\u001b[0;34m\u001b[0m            \u001b[0moperands\u001b[0m \u001b[0;34m=\u001b[0m \u001b[0margs\u001b[0m\u001b[0;34m[\u001b[0m\u001b[0;34m:\u001b[0m\u001b[0;34m-\u001b[0m\u001b[0;36m1\u001b[0m\u001b[0;34m:\u001b[0m\u001b[0;36m2\u001b[0m\u001b[0;34m]\u001b[0m\u001b[0;34m\u001b[0m\n",
       "\u001b[0;34m\u001b[0m        \u001b[0;32melse\u001b[0m\u001b[0;34m:\u001b[0m\u001b[0;34m\u001b[0m\n",
       "\u001b[0;34m\u001b[0m            \u001b[0moperands\u001b[0m \u001b[0;34m=\u001b[0m \u001b[0margs\u001b[0m\u001b[0;34m[\u001b[0m\u001b[0;34m:\u001b[0m\u001b[0;34m:\u001b[0m\u001b[0;36m2\u001b[0m\u001b[0;34m]\u001b[0m\u001b[0;34m\u001b[0m\n",
       "\u001b[0;34m\u001b[0m    \u001b[0;32melse\u001b[0m\u001b[0;34m:\u001b[0m\u001b[0;34m\u001b[0m\n",
       "\u001b[0;34m\u001b[0m        \u001b[0mequation\u001b[0m \u001b[0;34m=\u001b[0m \u001b[0margs\u001b[0m\u001b[0;34m[\u001b[0m\u001b[0;36m0\u001b[0m\u001b[0;34m]\u001b[0m\u001b[0;34m\u001b[0m\n",
       "\u001b[0;34m\u001b[0m        \u001b[0moperands\u001b[0m \u001b[0;34m=\u001b[0m \u001b[0margs\u001b[0m\u001b[0;34m[\u001b[0m\u001b[0;36m1\u001b[0m\u001b[0;34m:\u001b[0m\u001b[0;34m]\u001b[0m\u001b[0;34m\u001b[0m\n",
       "\u001b[0;34m\u001b[0m\u001b[0;34m\u001b[0m\n",
       "\u001b[0;34m\u001b[0m    \u001b[0;32mif\u001b[0m \u001b[0mhas_torch_function\u001b[0m\u001b[0;34m(\u001b[0m\u001b[0moperands\u001b[0m\u001b[0;34m)\u001b[0m\u001b[0;34m:\u001b[0m\u001b[0;34m\u001b[0m\n",
       "\u001b[0;34m\u001b[0m        \u001b[0;32mreturn\u001b[0m \u001b[0mhandle_torch_function\u001b[0m\u001b[0;34m(\u001b[0m\u001b[0meinsum\u001b[0m\u001b[0;34m,\u001b[0m \u001b[0moperands\u001b[0m\u001b[0;34m,\u001b[0m \u001b[0mequation\u001b[0m\u001b[0;34m,\u001b[0m \u001b[0;34m*\u001b[0m\u001b[0moperands\u001b[0m\u001b[0;34m)\u001b[0m\u001b[0;34m\u001b[0m\n",
       "\u001b[0;34m\u001b[0m\u001b[0;34m\u001b[0m\n",
       "\u001b[0;34m\u001b[0m    \u001b[0;32mif\u001b[0m \u001b[0mlen\u001b[0m\u001b[0;34m(\u001b[0m\u001b[0moperands\u001b[0m\u001b[0;34m)\u001b[0m \u001b[0;34m==\u001b[0m \u001b[0;36m1\u001b[0m \u001b[0;32mand\u001b[0m \u001b[0misinstance\u001b[0m\u001b[0;34m(\u001b[0m\u001b[0moperands\u001b[0m\u001b[0;34m[\u001b[0m\u001b[0;36m0\u001b[0m\u001b[0;34m]\u001b[0m\u001b[0;34m,\u001b[0m \u001b[0;34m(\u001b[0m\u001b[0mlist\u001b[0m\u001b[0;34m,\u001b[0m \u001b[0mtuple\u001b[0m\u001b[0;34m)\u001b[0m\u001b[0;34m)\u001b[0m\u001b[0;34m:\u001b[0m\u001b[0;34m\u001b[0m\n",
       "\u001b[0;34m\u001b[0m        \u001b[0;31m# the old interface of passing the operands as one list argument\u001b[0m\u001b[0;34m\u001b[0m\n",
       "\u001b[0;34m\u001b[0m        \u001b[0m_operands\u001b[0m \u001b[0;34m=\u001b[0m \u001b[0moperands\u001b[0m\u001b[0;34m[\u001b[0m\u001b[0;36m0\u001b[0m\u001b[0;34m]\u001b[0m\u001b[0;34m\u001b[0m\n",
       "\u001b[0;34m\u001b[0m        \u001b[0;31m# recurse incase operands contains value that has torch function\u001b[0m\u001b[0;34m\u001b[0m\n",
       "\u001b[0;34m\u001b[0m        \u001b[0;31m# in the original implementation this line is omitted\u001b[0m\u001b[0;34m\u001b[0m\n",
       "\u001b[0;34m\u001b[0m        \u001b[0;32mreturn\u001b[0m \u001b[0meinsum\u001b[0m\u001b[0;34m(\u001b[0m\u001b[0mequation\u001b[0m\u001b[0;34m,\u001b[0m \u001b[0;34m*\u001b[0m\u001b[0m_operands\u001b[0m\u001b[0;34m)\u001b[0m\u001b[0;34m\u001b[0m\n",
       "\u001b[0;34m\u001b[0m\u001b[0;34m\u001b[0m\n",
       "\u001b[0;34m\u001b[0m    \u001b[0;32mif\u001b[0m \u001b[0mlen\u001b[0m\u001b[0;34m(\u001b[0m\u001b[0moperands\u001b[0m\u001b[0;34m)\u001b[0m \u001b[0;34m<=\u001b[0m \u001b[0;36m2\u001b[0m \u001b[0;32mor\u001b[0m \u001b[0;32mnot\u001b[0m \u001b[0mopt_einsum\u001b[0m\u001b[0;34m.\u001b[0m\u001b[0menabled\u001b[0m\u001b[0;34m:\u001b[0m\u001b[0;34m\u001b[0m\n",
       "\u001b[0;34m\u001b[0m        \u001b[0;31m# the path for contracting 0 or 1 time(s) is already optimized\u001b[0m\u001b[0;34m\u001b[0m\n",
       "\u001b[0;34m\u001b[0m        \u001b[0;31m# or the user has disabled using opt_einsum\u001b[0m\u001b[0;34m\u001b[0m\n",
       "\u001b[0;34m\u001b[0m        \u001b[0;32mreturn\u001b[0m \u001b[0m_VF\u001b[0m\u001b[0;34m.\u001b[0m\u001b[0meinsum\u001b[0m\u001b[0;34m(\u001b[0m\u001b[0mequation\u001b[0m\u001b[0;34m,\u001b[0m \u001b[0moperands\u001b[0m\u001b[0;34m)\u001b[0m  \u001b[0;31m# type: ignore[attr-defined]\u001b[0m\u001b[0;34m\u001b[0m\n",
       "\u001b[0;34m\u001b[0m\u001b[0;34m\u001b[0m\n",
       "\u001b[0;34m\u001b[0m    \u001b[0mpath\u001b[0m \u001b[0;34m=\u001b[0m \u001b[0;32mNone\u001b[0m\u001b[0;34m\u001b[0m\n",
       "\u001b[0;34m\u001b[0m    \u001b[0;32mif\u001b[0m \u001b[0mopt_einsum\u001b[0m\u001b[0;34m.\u001b[0m\u001b[0mis_available\u001b[0m\u001b[0;34m(\u001b[0m\u001b[0;34m)\u001b[0m\u001b[0;34m:\u001b[0m\u001b[0;34m\u001b[0m\n",
       "\u001b[0;34m\u001b[0m        \u001b[0m_opt_einsum\u001b[0m \u001b[0;34m=\u001b[0m \u001b[0mopt_einsum\u001b[0m\u001b[0;34m.\u001b[0m\u001b[0mget_opt_einsum\u001b[0m\u001b[0;34m(\u001b[0m\u001b[0;34m)\u001b[0m\u001b[0;34m\u001b[0m\n",
       "\u001b[0;34m\u001b[0m        \u001b[0mtupled_path\u001b[0m \u001b[0;34m=\u001b[0m \u001b[0m_opt_einsum\u001b[0m\u001b[0;34m.\u001b[0m\u001b[0mcontract_path\u001b[0m\u001b[0;34m(\u001b[0m\u001b[0mequation\u001b[0m\u001b[0;34m,\u001b[0m \u001b[0;34m*\u001b[0m\u001b[0moperands\u001b[0m\u001b[0;34m,\u001b[0m \u001b[0moptimize\u001b[0m\u001b[0;34m=\u001b[0m\u001b[0mopt_einsum\u001b[0m\u001b[0;34m.\u001b[0m\u001b[0mstrategy\u001b[0m\u001b[0;34m)\u001b[0m\u001b[0;34m[\u001b[0m\u001b[0;36m0\u001b[0m\u001b[0;34m]\u001b[0m\u001b[0;34m\u001b[0m\n",
       "\u001b[0;34m\u001b[0m        \u001b[0;31m# flatten path for dispatching to C++\u001b[0m\u001b[0;34m\u001b[0m\n",
       "\u001b[0;34m\u001b[0m        \u001b[0mpath\u001b[0m \u001b[0;34m=\u001b[0m \u001b[0;34m[\u001b[0m\u001b[0mitem\u001b[0m \u001b[0;32mfor\u001b[0m \u001b[0mpair\u001b[0m \u001b[0;32min\u001b[0m \u001b[0mtupled_path\u001b[0m \u001b[0;32mfor\u001b[0m \u001b[0mitem\u001b[0m \u001b[0;32min\u001b[0m \u001b[0mpair\u001b[0m\u001b[0;34m]\u001b[0m\u001b[0;34m\u001b[0m\n",
       "\u001b[0;34m\u001b[0m    \u001b[0;32mreturn\u001b[0m \u001b[0m_VF\u001b[0m\u001b[0;34m.\u001b[0m\u001b[0meinsum\u001b[0m\u001b[0;34m(\u001b[0m\u001b[0mequation\u001b[0m\u001b[0;34m,\u001b[0m \u001b[0moperands\u001b[0m\u001b[0;34m,\u001b[0m \u001b[0mpath\u001b[0m\u001b[0;34m=\u001b[0m\u001b[0mpath\u001b[0m\u001b[0;34m)\u001b[0m  \u001b[0;31m# type: ignore[attr-defined]\u001b[0m\u001b[0;34m\u001b[0m\u001b[0;34m\u001b[0m\u001b[0m\n",
       "\u001b[0;31mFile:\u001b[0m      /usr/local/lib/python3.10/site-packages/torch/functional.py\n",
       "\u001b[0;31mType:\u001b[0m      function"
      ]
     },
     "metadata": {},
     "output_type": "display_data"
    }
   ],
   "source": [
    "torch.einsum??"
   ]
  },
  {
   "cell_type": "code",
   "execution_count": 51,
   "id": "44be1dce-ee92-4e2c-b49e-09caaeec17f7",
   "metadata": {},
   "outputs": [],
   "source": [
    "mr = torch.einsum(\"ij,jk->ijk\", m1, m2)"
   ]
  },
  {
   "cell_type": "code",
   "execution_count": 52,
   "id": "ef951b74-804b-4376-af22-28e45bf55f1a",
   "metadata": {},
   "outputs": [
    {
     "data": {
      "text/plain": [
       "torch.Size([5, 784, 10])"
      ]
     },
     "execution_count": 52,
     "metadata": {},
     "output_type": "execute_result"
    }
   ],
   "source": [
    "mr.shape"
   ]
  },
  {
   "cell_type": "code",
   "execution_count": 53,
   "id": "ac2d3331-15db-46cc-9c8b-ad5263b203db",
   "metadata": {},
   "outputs": [
    {
     "data": {
      "text/plain": [
       "tensor([[-10.94,  -0.68,  -7.00,  -4.01,  -2.09,  -3.36,   3.91,  -3.44, -11.47,  -2.12],\n",
       "        [ 14.54,   6.00,   2.89,  -4.08,   6.59, -14.74,  -9.28,   2.16, -15.28,  -2.68],\n",
       "        [  2.22,  -3.22,  -4.80,  -6.05,  14.17,  -8.98,  -4.79,  -5.44, -20.68,  13.57],\n",
       "        [ -6.71,   8.90,  -7.46,  -7.90,   2.70,  -4.73, -11.03, -12.98,  -6.44,   3.64],\n",
       "        [ -2.44,  -6.40,  -2.40,  -9.04,  11.18,  -5.77,  -8.92,  -3.79,  -8.98,   5.28]])"
      ]
     },
     "execution_count": 53,
     "metadata": {},
     "output_type": "execute_result"
    }
   ],
   "source": [
    "mr.sum(1)"
   ]
  },
  {
   "cell_type": "code",
   "execution_count": 54,
   "id": "3a8c8a29-669f-4265-93ba-3324713985d9",
   "metadata": {},
   "outputs": [
    {
     "data": {
      "text/plain": [
       "tensor([[-10.94,  -0.68,  -7.00,  -4.01,  -2.09,  -3.36,   3.91,  -3.44, -11.47,  -2.12],\n",
       "        [ 14.54,   6.00,   2.89,  -4.08,   6.59, -14.74,  -9.28,   2.16, -15.28,  -2.68],\n",
       "        [  2.22,  -3.22,  -4.80,  -6.05,  14.17,  -8.98,  -4.79,  -5.44, -20.68,  13.57],\n",
       "        [ -6.71,   8.90,  -7.46,  -7.90,   2.70,  -4.73, -11.03, -12.98,  -6.44,   3.64],\n",
       "        [ -2.44,  -6.40,  -2.40,  -9.04,  11.18,  -5.77,  -8.92,  -3.79,  -8.98,   5.28]])"
      ]
     },
     "execution_count": 54,
     "metadata": {},
     "output_type": "execute_result"
    }
   ],
   "source": [
    "torch.einsum(\"ij,jk->ik\", m1, m2)"
   ]
  }
 ],
 "metadata": {
  "kernelspec": {
   "display_name": "Python 3 (ipykernel)",
   "language": "python",
   "name": "python3"
  },
  "language_info": {
   "codemirror_mode": {
    "name": "ipython",
    "version": 3
   },
   "file_extension": ".py",
   "mimetype": "text/x-python",
   "name": "python",
   "nbconvert_exporter": "python",
   "pygments_lexer": "ipython3",
   "version": "3.10.13"
  }
 },
 "nbformat": 4,
 "nbformat_minor": 5
}
